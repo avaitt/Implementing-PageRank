{
 "cells": [
  {
   "cell_type": "markdown",
   "metadata": {},
   "source": [
    "# Pagerank Across Hamilton Data"
   ]
  },
  {
   "cell_type": "code",
   "execution_count": 1,
   "metadata": {},
   "outputs": [],
   "source": [
    "import urllib\n",
    "import csv\n",
    "\n",
    "def read_data(path):\n",
    "    \"\"\"\n",
    "    read downloaded data from a .csv file, and return a list of tuples. \n",
    "    each tuple represents a link between states. \n",
    "    \"\"\"\n",
    "    with open(path, \"r\") as f:\n",
    "        reader = csv.reader(f)\n",
    "        return [(row[0], row[1]) for row in list(reader)]\n",
    "    \n",
    "data = read_data('Hamilton_Data.csv')"
   ]
  },
  {
   "cell_type": "code",
   "execution_count": 2,
   "metadata": {},
   "outputs": [],
   "source": [
    "def describe(n):\n",
    "    \"\"\"\n",
    "    describe the meaning of the nth row of my dataset of choice \n",
    "    \"\"\"\n",
    "    \n",
    "    print('\"Element {element} of the Hamilton data set is {my_tuple}. This means that {personA} mentions {personB} in a song.\"'\n",
    "          .format(element = n, my_tuple = data[n], personA = data[n][0].title(), personB = data[n][1].title()))\n"
   ]
  },
  {
   "cell_type": "code",
   "execution_count": 3,
   "metadata": {},
   "outputs": [
    {
     "name": "stdout",
     "output_type": "stream",
     "text": [
      "\"Element 5 of the Hamilton data set is ('burr', 'betsy'). This means that Burr mentions Betsy in a song.\"\n"
     ]
    }
   ],
   "source": [
    "describe(5)"
   ]
  },
  {
   "cell_type": "code",
   "execution_count": 4,
   "metadata": {},
   "outputs": [],
   "source": [
    "def data_to_dictionary(data):\n",
    "    \"\"\"\n",
    "    convert data into a dictionary where there exists a key for each character and value of that key is a list of \n",
    "    corresponding values (should contain repeats if they exist) \n",
    "    \"\"\"\n",
    "\n",
    "    my_dict = {}\n",
    "    \n",
    "    # fill my_dict with empty values\n",
    "    for i in data:\n",
    "        values = []\n",
    "        my_dict[i[0]] = values\n",
    "\n",
    "#     values = []\n",
    "#     for j in my_dict:\n",
    "#         for i in data:\n",
    "#             if i[0] == j:\n",
    "#                 values.append(i[1])\n",
    "#         my_dict[j] = values\n",
    "#         values = []\n",
    "\n",
    "    # use a loop to append the corresponding value to a key (i.e. 2nd element in a tuple) to each empty values list\n",
    "    # of my_dict\n",
    "    # ensure that repeats are appended (should they exist)\n",
    "    for i in data:\n",
    "        my_dict[i[0]].append(i[1]) \n",
    "    return my_dict\n",
    "    \n",
    "        "
   ]
  },
  {
   "cell_type": "code",
   "execution_count": 5,
   "metadata": {},
   "outputs": [],
   "source": [
    "class PR_DiGraph:\n",
    "    \"\"\"\n",
    "    create a class to represent one-way data relationships in our data\n",
    "    \"\"\"\n",
    "    \n",
    "    def __init__(self, data, iteration_limit):\n",
    "        \"\"\"\n",
    "        create a constructor to allow user to pass additional data when initializing an object of this classParameters\n",
    "        \"\"\"\n",
    "        # self.data = data\n",
    "        self.iteration_limit = iteration_limit\n",
    "        self.link_dict = data_to_dictionary(data)\n",
    "        self.iteration_limit = self.iteration_limit\n",
    "    \n",
    "    def linked_by(self, x):\n",
    "        \"\"\"\n",
    "        return self.link_dict[x] which will access the respective value(s) of key, x\n",
    "        \"\"\"\n",
    "        return self.link_dict[x]\n",
    "    \n",
    "    def __iter__(self):\n",
    "        \"\"\"\n",
    "        construct a PR_Iterator from PR_DiGraph\n",
    "        \"\"\"\n",
    "        return(PR_Iterator(self))\n",
    "        \n",
    "        "
   ]
  },
  {
   "cell_type": "code",
   "execution_count": 6,
   "metadata": {},
   "outputs": [],
   "source": [
    "D = PR_DiGraph(data, iteration_limit = 10000)"
   ]
  },
  {
   "cell_type": "code",
   "execution_count": 7,
   "metadata": {},
   "outputs": [
    {
     "data": {
      "text/plain": [
       "['burr',\n",
       " 'hamilton',\n",
       " 'ensemble',\n",
       " 'company',\n",
       " 'men',\n",
       " 'women',\n",
       " 'angelica',\n",
       " 'eliza',\n",
       " 'washington',\n",
       " 'mulligan',\n",
       " 'lafayette',\n",
       " 'laurens',\n",
       " 'kingGeorge',\n",
       " 'jefferson',\n",
       " 'madison',\n",
       " 'philipH',\n",
       " 'lee',\n",
       " 'peggy',\n",
       " 'seabury',\n",
       " 'reynolds',\n",
       " 'doctor']"
      ]
     },
     "execution_count": 7,
     "metadata": {},
     "output_type": "execute_result"
    }
   ],
   "source": [
    "# look at all keys in the Hamilton dataset\n",
    "list(D.link_dict.keys())"
   ]
  },
  {
   "cell_type": "code",
   "execution_count": 8,
   "metadata": {},
   "outputs": [],
   "source": [
    "import random\n",
    "\n",
    "class PR_Iterator():\n",
    "    \"\"\"\n",
    "    create PR_Iterator class to be used in PR_DiGraph\n",
    "    \"\"\"\n",
    "    \n",
    "    def __init__(self, D):\n",
    "        \"\"\"\n",
    "        create a constructor that takes in as argument PR_DiGraph object\n",
    "        \"\"\"\n",
    "        \n",
    "        self.D = D\n",
    "        self.i = 0\n",
    "        \n",
    "        # arbitrary initial value\n",
    "        self.current_state = \"hamilton\"\n",
    "        \n",
    "    def follow_link(self):\n",
    "        \"\"\"\n",
    "        Pick a random value mentioned by our current 'key' (i.e. plane/character)\n",
    "        \"\"\"\n",
    "        self.test = \"HI\"\n",
    "        # Take necessary precautions (i.e. try/except) if we encounter KeyErrors and include \n",
    "        # if statements to handle if a respective random value (i.e. next_state) is not a key in our data or is a \n",
    "        # repeat (i.e. hamilton calls philip and philip can only call himself for the duration of the loop)\n",
    "        try:\n",
    "            self.next_state = random.choice(self.D.linked_by(self.current_state))\n",
    "            if self.next_state not in (self.D.link_dict.keys()):\n",
    "                self.teleport()\n",
    "            if (self.next_state != self.current_state):\n",
    "                self.current_state = self.next_state\n",
    "            elif (self.next_state == self.current_state):\n",
    "                self.teleport()\n",
    "        except KeyError: \n",
    "            # member function (from our iterator object (self))\n",
    "            self.teleport()\n",
    "    \n",
    "    def teleport(self): \n",
    "        \"\"\"\n",
    "        set current state to a new state (key of the link dict) at random.\n",
    "        \"\"\"\n",
    "        self.current_state = random.choice(list(self.D.link_dict.keys()))\n",
    "            \n",
    "    def __next__(self):\n",
    "        \"\"\"\n",
    "        allow for iteration of all items of a PR_DiGraph object \n",
    "        \"\"\"\n",
    "#         print(self.test)\n",
    "        # only generate one random variable\n",
    "        # execute follow_link() with 85% probability and teleport() with 15% probability\n",
    "      \n",
    "        if random.random() < 0.85:\n",
    "            self.follow_link()\n",
    "        else:\n",
    "            self.teleport()\n",
    "        \n",
    "        # raise StopIteration at end of list\n",
    "        if self.i == self.D.iteration_limit:\n",
    "            raise StopIteration \n",
    "        \n",
    "        # grab next element of our list\n",
    "        self.i += 1\n",
    "    \n",
    "        return(self.current_state)\n",
    "        \n",
    "\n"
   ]
  },
  {
   "cell_type": "code",
   "execution_count": 9,
   "metadata": {},
   "outputs": [],
   "source": [
    "# because object is iterable you can make a list\n",
    "obj = PR_DiGraph(data, iteration_limit = 1000000)\n",
    "L = list(obj)\n",
    "my_dict = {}\n",
    "\n",
    "# Note: .count() treated as for loop (therefore expensive operation)\n",
    "# update dictionary efficiently, by not using nested for loops we save on time complexity\n",
    "for i in L:\n",
    "    # efficient update of loop\n",
    "    if i not in my_dict:\n",
    "        my_dict[i] = 1\n",
    "    else:\n",
    "        my_dict[i] += 1\n",
    "#     my_dict.update({i : L.count(i)})\n",
    "    \n"
   ]
  },
  {
   "cell_type": "code",
   "execution_count": 10,
   "metadata": {},
   "outputs": [
    {
     "data": {
      "text/plain": [
       "{'madison': 37294,\n",
       " 'jAdams': 31276,\n",
       " 'reynolds': 28802,\n",
       " 'mulligan': 21388,\n",
       " 'washington': 92482,\n",
       " 'hamilton': 166199,\n",
       " 'peggy': 20704,\n",
       " 'company': 17165,\n",
       " 'men': 17352,\n",
       " 'burr': 99492,\n",
       " 'schuylerSis': 19246,\n",
       " 'jefferson': 72446,\n",
       " 'eliza': 51500,\n",
       " 'philipH': 26285,\n",
       " 'women': 17025,\n",
       " 'lafayette': 33931,\n",
       " 'lee': 33654,\n",
       " 'theodosiaMother': 1706,\n",
       " 'angelica': 48168,\n",
       " 'seabury': 17035,\n",
       " 'ensemble': 16929,\n",
       " 'marthaWashington': 1743,\n",
       " 'eacker': 6220,\n",
       " 'kingGeorge': 28800,\n",
       " 'philipS': 7717,\n",
       " 'laurens': 27423,\n",
       " 'green': 3876,\n",
       " 'doctor': 16722,\n",
       " 'betsy': 1716,\n",
       " 'knox': 3983,\n",
       " 'generalMercer': 1694,\n",
       " 'sAdams': 3412,\n",
       " 'rochambeau': 3820,\n",
       " 'maria': 1735,\n",
       " 'paine': 1951,\n",
       " 'generalMontgomery': 1769,\n",
       " 'weeks': 1647,\n",
       " 'jay': 1637,\n",
       " 'franklin': 1904,\n",
       " 'sally': 2809,\n",
       " 'conway': 1762,\n",
       " 'pendleton': 1726,\n",
       " 'ness': 1698,\n",
       " 'kingLouis': 1778,\n",
       " 'theodosiaDaughter': 1628,\n",
       " 'admiralHowe': 751}"
      ]
     },
     "execution_count": 10,
     "metadata": {},
     "output_type": "execute_result"
    }
   ],
   "source": [
    "# holds the PageRank score of each key\n",
    "my_dict"
   ]
  },
  {
   "cell_type": "markdown",
   "metadata": {},
   "source": [
    "### Top 10 'states' ranked by highest PageRank. These are the characters who are introduced and/or discussed most often across the entirety of the play."
   ]
  },
  {
   "cell_type": "code",
   "execution_count": 11,
   "metadata": {},
   "outputs": [
    {
     "data": {
      "text/plain": [
       "[('hamilton', 166199),\n",
       " ('burr', 99492),\n",
       " ('washington', 92482),\n",
       " ('jefferson', 72446),\n",
       " ('eliza', 51500),\n",
       " ('angelica', 48168),\n",
       " ('madison', 37294),\n",
       " ('lafayette', 33931),\n",
       " ('lee', 33654),\n",
       " ('jAdams', 31276)]"
      ]
     },
     "execution_count": 11,
     "metadata": {},
     "output_type": "execute_result"
    }
   ],
   "source": [
    "# sort by value\n",
    "sorted_dict = sorted(my_dict.items(), key = lambda x: x[1], reverse = True)[:10]\n",
    "sorted_dict"
   ]
  }
 ],
 "metadata": {
  "kernelspec": {
   "display_name": "Python 3",
   "language": "python",
   "name": "python3"
  },
  "language_info": {
   "codemirror_mode": {
    "name": "ipython",
    "version": 3
   },
   "file_extension": ".py",
   "mimetype": "text/x-python",
   "name": "python",
   "nbconvert_exporter": "python",
   "pygments_lexer": "ipython3",
   "version": "3.8.5"
  }
 },
 "nbformat": 4,
 "nbformat_minor": 4
}
